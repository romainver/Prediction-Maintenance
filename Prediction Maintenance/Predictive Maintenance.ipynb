{
 "cells": [
  {
   "cell_type": "markdown",
   "metadata": {},
   "source": [
    "# Predictive Maintenance -  Proof of Concept"
   ]
  },
  {
   "cell_type": "markdown",
   "metadata": {},
   "source": [
    "## Data description"
   ]
  },
  {
   "cell_type": "markdown",
   "metadata": {},
   "source": [
    "<p> The data set was experimentally obtained with a hydraulic test rig. This test rig consists of a primary working and a secondary cooling-filtration circuit which are connected via the oil tank. The system cyclically repeats constant load cycles (duration 60 seconds) and measures process values such as pressures, volume flows and temperatures while the condition of four hydraulic components (cooler, valve, pump and accumulator) is quantitatively varied. \n",
    "\n",
    "Attribute Information:\n",
    "The data set contains raw process sensor data (i.e. without feature extraction) which are structured as matrices (tab-delimited) with the rows representing the cycles and the columns the data points within a cycle. The sensors involved are:\n",
    "Sensor\t\tPhysical quantity\t\tUnit\t\tSampling rate\n",
    "PS1\t\tPressure\t\t\tbar\t\t100 Hz\n",
    "PS2\t\tPressure\t\t\tbar\t\t100 Hz\n",
    "PS3\t\tPressure\t\t\tbar\t\t100 Hz\n",
    "PS4\t\tPressure\t\t\tbar\t\t100 Hz\n",
    "PS5\t\tPressure\t\t\tbar\t\t100 Hz\n",
    "PS6\t\tPressure\t\t\tbar\t\t100 Hz\n",
    "EPS1\t\tMotor power\t\t\tW\t\t100 Hz\n",
    "FS1\t\tVolume flow\t\t\tl/min\t\t10 Hz\n",
    "FS2\t\tVolume flow\t\t\tl/min\t\t10 Hz\n",
    "TS1\t\tTemperature\t\t\t°C\t\t1 Hz\n",
    "TS2\t\tTemperature\t\t\t°C\t\t1 Hz\n",
    "TS3\t\tTemperature\t\t\t°C\t\t1 Hz\n",
    "TS4\t\tTemperature\t\t\t°C\t\t1 Hz\n",
    "VS1\t\tVibration\t\t\tmm/s\t\t1 Hz\n",
    "CE\t\tCooling efficiency (virtual)\t%\t\t1 Hz\n",
    "CP\t\tCooling power (virtual)\t\tkW\t\t1 Hz\n",
    "SE\t\tEfficiency factor\t\t%\t\t1 Hz\n",
    "\n",
    "The target condition values are cycle-wise annotated in profile.txt (tab-delimited). As before, the row number represents the cycle number. The columns are\n",
    "\n",
    "1: Cooler condition / %:\n",
    "\t3: close to total failure\n",
    "\t20: reduced effifiency\n",
    "\t100: full efficiency\n",
    "\n",
    "2: Valve condition / %:\n",
    "\t100: optimal switching behavior\n",
    "\t90: small lag\n",
    "\t80: severe lag\n",
    "\t73: close to total failure\n",
    "\n",
    "3: Internal pump leakage:\n",
    "\t0: no leakage\n",
    "\t1: weak leakage\n",
    "\t2: severe leakage\n",
    "\n",
    "4: Hydraulic accumulator / bar:\n",
    "\t130: optimal pressure\n",
    "\t115: slightly reduced pressure\n",
    "\t100: severely reduced pressure\n",
    "\t90: close to total failure\n",
    "\n",
    "5: stable flag:\n",
    "\t0: conditions were stable\n",
    "\t1: static conditions might not have been reached yet\n",
    "    \n",
    "Dataset can be obtained here : https://archive.ics.uci.edu/ml/datasets/Condition+monitoring+of+hydraulic+systems#\n",
    "</p>"
   ]
  },
  {
   "cell_type": "markdown",
   "metadata": {},
   "source": [
    "# Part 1 : Cooler condition prediction"
   ]
  },
  {
   "cell_type": "markdown",
   "metadata": {},
   "source": [
    "<p> I chose to start working with Temperature related data. My features will be the temperature sensors, and my label will be the valve condition value. \n",
    "    \n",
    "First step will be to concatenate all 4 temperature sensors, so I will have 4 * 60 = 240 features per cycle (or row/instance). \n",
    "\n",
    "I will then load the cooler condition feature from profile.txt, and I will shift all rows so my model can predict in the future. If I want to predict a failure 1 hour ahead, I will replace every value of cooling[T] by the value cooling[T+60]. \n",
    "\n",
    "I will then drop the last 60 rows of my label dataset because it is not possible to shift them, and also drop the last 60 rows from the sensors. \n",
    "</p> "
   ]
  },
  {
   "cell_type": "code",
   "execution_count": 47,
   "metadata": {
    "scrolled": false
   },
   "outputs": [
    {
     "name": "stdout",
     "output_type": "stream",
     "text": [
      "(2205, 7)\n",
      "(2145, 7)\n",
      "(2145, 240)\n"
     ]
    }
   ],
   "source": [
    "import pandas as pd\n",
    "import numpy as np\n",
    "from sklearn import metrics\n",
    "import matplotlib.pyplot as plt\n",
    "from sklearn import tree\n",
    "from sklearn.metrics import accuracy_score\n",
    "%matplotlib inline\n",
    "from sklearn.preprocessing import MinMaxScaler\n",
    "from sklearn.model_selection import train_test_split\n",
    "import random\n",
    "RANDOM_SEED=random.randint(1,500)\n",
    "\n",
    "#training data files\n",
    "ts_files = ['TS1.txt', 'TS2.txt', 'TS3.txt', 'TS4.txt']\n",
    "ps_files = ['PS1.txt', 'PS2.txt', 'PS3.txt', 'PS4.txt', 'PS5.txt', 'PS6.txt']\n",
    "vl_files = ['FS1.txt', 'FS2.txt']\n",
    "X = pd.DataFrame()\n",
    "sensor=1\n",
    "nb_data_points = np.arange(1,61)\n",
    "for f in ts_files:\n",
    "    #create array of header values\n",
    "    header = []\n",
    "    for dp in nb_data_points:\n",
    "        header.append('sensor n°'+str(sensor)+'(t='+str(dp)+')')\n",
    "    #load df and apply the header\n",
    "    df = pd.read_csv('data/'+f, sep='\\t', header=None, names=header)\n",
    "    #add current file to final feature dataset\n",
    "    for cols in list(df.columns.values):\n",
    "        X[cols] = df[cols]\n",
    "    sensor = sensor+1\n",
    "#load profile.csv\n",
    "y = pd.read_csv('data/profile.csv', sep='\\t',header=None,names=['cooler','valve','pump','hydraulic','flag'])\n",
    "#0 = Failure, 1 = Reduced efficiency, 2 = Full efficiency\n",
    "y['cooler'] = y['cooler'].map({3:0, 20:1, 100:2}).astype(int)\n",
    "#1 hour lag\n",
    "lag = 60\n",
    "y['cooler+'+str(lag)] = 0\n",
    "y['flag+'+str(lag)] = 0\n",
    "for index, row in y.iterrows():\n",
    "    #prevent index out of range\n",
    "    if index < (len(y)-(lag)):\n",
    "        y['cooler+'+str(lag)][index] = y['cooler'][index+lag]\n",
    "        y['flag+'+str(lag)][index] = y['flag'][index+lag]\n",
    "rows_to_drop = np.arange(len(y)-(lag),len(y))\n",
    "print(y.shape)\n",
    "y = y.drop(rows_to_drop,axis=0)\n",
    "X = X.drop(rows_to_drop,axis=0)\n",
    "print(y.shape)\n",
    "print(X.shape)"
   ]
  },
  {
   "cell_type": "code",
   "execution_count": 23,
   "metadata": {},
   "outputs": [
    {
     "data": {
      "text/plain": [
       "<matplotlib.axes._subplots.AxesSubplot at 0x7fc3cb495400>"
      ]
     },
     "execution_count": 23,
     "metadata": {},
     "output_type": "execute_result"
    },
    {
     "data": {
      "image/png": "[encoded data removed]",
      "text/plain": [
       "<Figure size 432x288 with 1 Axes>"
      ]
     },
     "metadata": {
      "needs_background": "light"
     },
     "output_type": "display_data"
    },
    {
     "data": {
      "image/png": "[encoded data removed]",
      "text/plain": [
       "<Figure size 432x288 with 1 Axes>"
      ]
     },
     "metadata": {
      "needs_background": "light"
     },
     "output_type": "display_data"
    }
   ],
   "source": [
    "y[['cooler','cooler+'+str(lag)]].plot()\n"
   ]
  },
  {
   "cell_type": "markdown",
   "metadata": {},
   "source": [
    "<p> Here I will normalize sensor data X to help the model, then I will add the label feature to X for training purposes, split the dataset in training and testing datasets, and drop the label from the testing dataset</p>"
   ]
  },
  {
   "cell_type": "code",
   "execution_count": 48,
   "metadata": {},
   "outputs": [
    {
     "name": "stdout",
     "output_type": "stream",
     "text": [
      "(1712, 240)\n",
      "(433, 240)\n",
      "(433,)\n"
     ]
    }
   ],
   "source": [
    "\n",
    "\n",
    "scaler = MinMaxScaler()\n",
    "\n",
    "scaled_X = scaler.fit_transform(X)\n",
    "scaled_X = pd.DataFrame(scaled_X, columns=X.columns.values)\n",
    "\n",
    "msk = np.random.rand(len(scaled_X)) < 0.8\n",
    "\n",
    "train_X = scaled_X[msk]\n",
    "train_y = y['cooler+'+str(lag)][msk]\n",
    "\n",
    "test_X = scaled_X[~msk]\n",
    "test_y = y['cooler+'+str(lag)][~msk]\n",
    "\n",
    "print(train_X.shape)\n",
    "print(test_X.shape)\n",
    "\n",
    "print(test_y.shape)"
   ]
  },
  {
   "cell_type": "code",
   "execution_count": 19,
   "metadata": {},
   "outputs": [
    {
     "name": "stdout",
     "output_type": "stream",
     "text": [
      "0.930648769574944\n"
     ]
    }
   ],
   "source": [
    "\n",
    "decision_tree = tree.DecisionTreeClassifier()\n",
    "decision_tree = decision_tree.fit(train_X, train_y)\n",
    "predictions = decision_tree.predict(test_X)\n",
    "\n",
    "print(accuracy_score(test_y, predictions))"
   ]
  },
  {
   "cell_type": "markdown",
   "metadata": {},
   "source": [
    "<p> As well as accuracy, I will show the confusion matrix. \n",
    "    \n",
    "    0 = Failure, \n",
    "    \n",
    "    1 = Reduced efficiency, \n",
    "    \n",
    "    2 = Full efficiency\n",
    "</p>"
   ]
  },
  {
   "cell_type": "code",
   "execution_count": 20,
   "metadata": {},
   "outputs": [
    {
     "data": {
      "image/png": "[encoded data removed]",
      "text/plain": [
       "<Figure size 576x432 with 2 Axes>"
      ]
     },
     "metadata": {
      "needs_background": "light"
     },
     "output_type": "display_data"
    }
   ],
   "source": [
    "\n",
    "\n",
    "def plot_confusion_matrix(cm,\n",
    "                          target_names,\n",
    "                          title='Confusion matrix',\n",
    "                          cmap=None,\n",
    "                          normalize=True):\n",
    "\n",
    "    import itertools\n",
    "\n",
    "    accuracy = np.trace(cm) / float(np.sum(cm))\n",
    "    misclass = 1 - accuracy\n",
    "\n",
    "    if cmap is None:\n",
    "        cmap = plt.get_cmap('Blues')\n",
    "\n",
    "    plt.figure(figsize=(8, 6))\n",
    "    plt.imshow(cm, interpolation='nearest', cmap=cmap)\n",
    "    plt.title(title)\n",
    "    plt.colorbar()\n",
    "\n",
    "    if target_names is not None:\n",
    "        tick_marks = np.arange(len(target_names))\n",
    "        plt.xticks(tick_marks, target_names, rotation=45)\n",
    "        plt.yticks(tick_marks, target_names)\n",
    "\n",
    "    if normalize:\n",
    "        cm = cm.astype('float') / cm.sum(axis=1)[:, np.newaxis]\n",
    "\n",
    "\n",
    "    thresh = cm.max() / 1.5 if normalize else cm.max() / 2\n",
    "    for i, j in itertools.product(range(cm.shape[0]), range(cm.shape[1])):\n",
    "        if normalize:\n",
    "            plt.text(j, i, \"{:0.4f}\".format(cm[i, j]),\n",
    "                     horizontalalignment=\"center\",\n",
    "                     color=\"white\" if cm[i, j] > thresh else \"black\")\n",
    "        else:\n",
    "            plt.text(j, i, \"{:,}\".format(cm[i, j]),\n",
    "                     horizontalalignment=\"center\",\n",
    "                     color=\"white\" if cm[i, j] > thresh else \"black\")\n",
    "\n",
    "\n",
    "    plt.tight_layout()\n",
    "    plt.ylabel('True label')\n",
    "    plt.xlabel('Predicted label\\naccuracy={:0.4f}; misclass={:0.4f}'.format(accuracy, misclass))\n",
    "    plt.show()\n",
    "matrix = metrics.confusion_matrix(test_y, predictions)\n",
    "plot_confusion_matrix(matrix,y.cooler.unique(),normalize=False)"
   ]
  },
  {
   "cell_type": "code",
   "execution_count": 49,
   "metadata": {},
   "outputs": [
    {
     "name": "stdout",
     "output_type": "stream",
     "text": [
      "(1712, 240, 1)\n",
      "(433, 240, 1)\n",
      "(1712, 3)\n",
      "(433, 3)\n"
     ]
    }
   ],
   "source": [
    "from keras.utils import to_categorical\n",
    "train_X, test_X = np.array(train_X),np.array(test_X)\n",
    "train_y = to_categorical(train_y, num_classes=3)\n",
    "test_y = to_categorical(test_y, num_classes=3)\n",
    "train_X = train_X.reshape(train_X.shape[0], train_X.shape[1], 1)\n",
    "test_X = test_X.reshape(test_X.shape[0], test_X.shape[1], 1)\n",
    "print(train_X.shape)\n",
    "print(test_X.shape)\n",
    "print(train_y.shape)\n",
    "print(test_y.shape)"
   ]
  },
  {
   "cell_type": "code",
   "execution_count": 50,
   "metadata": {},
   "outputs": [
    {
     "name": "stdout",
     "output_type": "stream",
     "text": [
      "_________________________________________________________________\n",
      "Layer (type)                 Output Shape              Param #   \n",
      "=================================================================\n",
      "conv1d_22 (Conv1D)           (None, 235, 100)          700       \n",
      "_________________________________________________________________\n",
      "conv1d_23 (Conv1D)           (None, 230, 100)          60100     \n",
      "_________________________________________________________________\n",
      "max_pooling1d_6 (MaxPooling1 (None, 76, 100)           0         \n",
      "_________________________________________________________________\n",
      "conv1d_24 (Conv1D)           (None, 71, 160)           96160     \n",
      "_________________________________________________________________\n",
      "conv1d_25 (Conv1D)           (None, 66, 160)           153760    \n",
      "_________________________________________________________________\n",
      "global_average_pooling1d_6 ( (None, 160)               0         \n",
      "_________________________________________________________________\n",
      "dropout_6 (Dropout)          (None, 160)               0         \n",
      "_________________________________________________________________\n",
      "dense_6 (Dense)              (None, 3)                 483       \n",
      "=================================================================\n",
      "Total params: 311,203\n",
      "Trainable params: 311,203\n",
      "Non-trainable params: 0\n",
      "_________________________________________________________________\n",
      "None\n",
      "Train on 1369 samples, validate on 343 samples\n",
      "Epoch 1/10\n",
      "1369/1369 [==============================] - 5s 4ms/step - loss: 0.7026 - acc: 0.6552 - val_loss: 2.1463e-04 - val_acc: 1.0000\n",
      "Epoch 2/10\n",
      "1369/1369 [==============================] - 5s 3ms/step - loss: 0.4028 - acc: 0.8934 - val_loss: 6.4951e-04 - val_acc: 1.0000\n",
      "Epoch 3/10\n",
      "1369/1369 [==============================] - 5s 3ms/step - loss: 0.4047 - acc: 0.8919 - val_loss: 0.0401 - val_acc: 1.0000\n",
      "Epoch 4/10\n",
      "1369/1369 [==============================] - 5s 3ms/step - loss: 0.3735 - acc: 0.8919 - val_loss: 0.0173 - val_acc: 1.0000\n",
      "Epoch 5/10\n",
      "1369/1369 [==============================] - 5s 3ms/step - loss: 0.3655 - acc: 0.8934 - val_loss: 0.0025 - val_acc: 1.0000\n",
      "Epoch 6/10\n",
      "1369/1369 [==============================] - 5s 3ms/step - loss: 0.3449 - acc: 0.8977 - val_loss: 0.0047 - val_acc: 1.0000\n",
      "Epoch 7/10\n",
      "1369/1369 [==============================] - 5s 3ms/step - loss: 0.3439 - acc: 0.8955 - val_loss: 0.0072 - val_acc: 1.0000\n",
      "Epoch 8/10\n",
      "1369/1369 [==============================] - 5s 3ms/step - loss: 0.3475 - acc: 0.8963 - val_loss: 0.0467 - val_acc: 1.0000\n",
      "Epoch 9/10\n",
      "1369/1369 [==============================] - 5s 3ms/step - loss: 0.3584 - acc: 0.8955 - val_loss: 0.0305 - val_acc: 1.0000\n",
      "Epoch 10/10\n",
      "1369/1369 [==============================] - 5s 3ms/step - loss: 0.3325 - acc: 0.8999 - val_loss: 0.0156 - val_acc: 1.0000\n"
     ]
    }
   ],
   "source": [
    "from keras.models import Sequential\n",
    "from keras.layers import Dense, Dropout, Reshape\n",
    "from keras.layers import Embedding\n",
    "from keras.layers import Conv1D, GlobalAveragePooling1D, MaxPooling1D\n",
    "from keras.utils import np_utils\n",
    "from keras.models import Model\n",
    "\n",
    "model = Sequential()\n",
    "model.add(Conv1D(100, 6, activation='relu', input_shape=(240,1,)))\n",
    "model.add(Conv1D(100, 6, activation='relu'))\n",
    "model.add(MaxPooling1D(3))\n",
    "model.add(Conv1D(160, 6, activation='relu'))\n",
    "model.add(Conv1D(160, 6, activation='relu'))\n",
    "model.add(GlobalAveragePooling1D())\n",
    "model.add(Dropout(0.5))\n",
    "model.add(Dense(3, activation='softmax'))\n",
    "print(model.summary())\n",
    "model.compile(loss='categorical_crossentropy', optimizer='adam', metrics=['accuracy'])\n",
    "history = model.fit(train_X, train_y, batch_size=32,\n",
    "                    epochs=10, validation_split=0.2, verbose=1)"
   ]
  },
  {
   "cell_type": "code",
   "execution_count": 53,
   "metadata": {},
   "outputs": [
    {
     "data": {
      "image/png": "[encoded data removed]",
      "text/plain": [
       "<Figure size 576x432 with 2 Axes>"
      ]
     },
     "metadata": {
      "needs_background": "light"
     },
     "output_type": "display_data"
    }
   ],
   "source": [
    "predictions = model.predict(test_X)\n",
    "label = []\n",
    "for p in predictions:\n",
    "    maximum = np.max(p)\n",
    "    label.append(np.where(maximum == p)[0])\n",
    "true_label = []\n",
    "for l in test_y:\n",
    "    maximum = np.max(l)\n",
    "    true_label.append(np.where(maximum == l)[0])\n",
    "matrix = metrics.confusion_matrix(true_label, label)\n",
    "plot_confusion_matrix(matrix,y.cooler.unique(),normalize=False)"
   ]
  },
  {
   "cell_type": "markdown",
   "metadata": {},
   "source": [
    "# Part 2 : Flag prediction with temperature"
   ]
  },
  {
   "cell_type": "code",
   "execution_count": 29,
   "metadata": {},
   "outputs": [
    {
     "data": {
      "text/plain": [
       "<matplotlib.axes._subplots.AxesSubplot at 0x7fc3cb1c1128>"
      ]
     },
     "execution_count": 29,
     "metadata": {},
     "output_type": "execute_result"
    },
    {
     "data": {
      "image/png": "[encoded data removed]",
      "text/plain": [
       "<Figure size 432x288 with 1 Axes>"
      ]
     },
     "metadata": {
      "needs_background": "light"
     },
     "output_type": "display_data"
    }
   ],
   "source": [
    "y[['flag','flag+'+str(lag)]][120:300].plot()"
   ]
  },
  {
   "cell_type": "code",
   "execution_count": 30,
   "metadata": {},
   "outputs": [],
   "source": [
    "train_X = scaled_X[msk]\n",
    "train_y = y['flag+'+str(lag)][msk]\n",
    "\n",
    "test_X = scaled_X[~msk]\n",
    "test_y = y['flag+'+str(lag)][~msk]\n"
   ]
  },
  {
   "cell_type": "code",
   "execution_count": 31,
   "metadata": {},
   "outputs": [
    {
     "name": "stdout",
     "output_type": "stream",
     "text": [
      "0.8210290827740492\n"
     ]
    }
   ],
   "source": [
    "\n",
    "decision_tree = tree.DecisionTreeClassifier()\n",
    "decision_tree = decision_tree.fit(train_X, train_y)\n",
    "predictions = decision_tree.predict(test_X)\n",
    "\n",
    "print(accuracy_score(test_y, predictions))"
   ]
  },
  {
   "cell_type": "code",
   "execution_count": 33,
   "metadata": {},
   "outputs": [
    {
     "data": {
      "image/png": "[encoded data removed]",
      "text/plain": [
       "<Figure size 576x432 with 2 Axes>"
      ]
     },
     "metadata": {
      "needs_background": "light"
     },
     "output_type": "display_data"
    }
   ],
   "source": [
    "matrix = metrics.confusion_matrix(test_y, predictions)\n",
    "plot_confusion_matrix(matrix,y.flag.unique(),normalize=False)"
   ]
  },
  {
   "cell_type": "code",
   "execution_count": null,
   "metadata": {},
   "outputs": [],
   "source": []
  }
 ],
 "metadata": {
  "kernelspec": {
   "display_name": "Python 3",
   "language": "python",
   "name": "python3"
  },
  "language_info": {
   "codemirror_mode": {
    "name": "ipython",
    "version": 3
   },
   "file_extension": ".py",
   "mimetype": "text/x-python",
   "name": "python",
   "nbconvert_exporter": "python",
   "pygments_lexer": "ipython3",
   "version": "3.7.1"
  }
 },
 "nbformat": 4,
 "nbformat_minor": 2
}
